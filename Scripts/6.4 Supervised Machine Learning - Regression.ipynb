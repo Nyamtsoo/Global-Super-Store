{
 "cells": [
  {
   "cell_type": "markdown",
   "id": "df9c0476",
   "metadata": {},
   "source": [
    "### Importing Libraries and Data\n"
   ]
  },
  {
   "cell_type": "code",
   "execution_count": 1,
   "id": "c648652c",
   "metadata": {},
   "outputs": [],
   "source": [
    "import pandas as pd\n",
    "import numpy as np\n",
    "import seaborn as sns\n",
    "import matplotlib\n",
    "import matplotlib.pyplot as plt\n",
    "import os\n",
    "import sklearn\n",
    "from sklearn.model_selection import train_test_split \n",
    "from sklearn.linear_model import LinearRegression\n",
    "from sklearn.metrics import mean_squared_error, r2_score"
   ]
  },
  {
   "cell_type": "code",
   "execution_count": 2,
   "id": "484ac59c",
   "metadata": {},
   "outputs": [],
   "source": [
    "# This option ensures that the graphs you create are displayed within the notebook without the need to \"call\" them specifically.\n",
    "\n",
    "%matplotlib inline"
   ]
  },
  {
   "cell_type": "code",
   "execution_count": 3,
   "id": "5efbb260",
   "metadata": {},
   "outputs": [],
   "source": [
    "# creating path\n",
    "path = r'C:\\Users\\jnyam\\Documents\\Global Super Store'"
   ]
  },
  {
   "cell_type": "code",
   "execution_count": 4,
   "id": "57404ddc",
   "metadata": {},
   "outputs": [],
   "source": [
    "df = pd.read_csv(os.path.join(path, 'Data', 'Prepared Data', 'Global_store_sales.csv'), index_col = False)"
   ]
  },
  {
   "cell_type": "markdown",
   "id": "601004a4",
   "metadata": {},
   "source": [
    "### Data cleaning"
   ]
  },
  {
   "cell_type": "code",
   "execution_count": 5,
   "id": "c1f9d02c",
   "metadata": {},
   "outputs": [
    {
     "data": {
      "text/plain": [
       "(51290, 24)"
      ]
     },
     "execution_count": 5,
     "metadata": {},
     "output_type": "execute_result"
    }
   ],
   "source": [
    "df.shape"
   ]
  },
  {
   "cell_type": "code",
   "execution_count": 6,
   "id": "1c204b41",
   "metadata": {},
   "outputs": [
    {
     "data": {
      "text/plain": [
       "Index(['Unnamed: 0', 'row_id', 'order_id', 'order_date', 'ship_date',\n",
       "       'ship_mode', 'customer_id', 'segment', 'city', 'state', 'country',\n",
       "       'market', 'region', 'product_id', 'category', 'sub_category',\n",
       "       'product_name', 'sales', 'quantity', 'discount', 'profit',\n",
       "       'shipping_cost', 'order_priority', 'total_sales'],\n",
       "      dtype='object')"
      ]
     },
     "execution_count": 6,
     "metadata": {},
     "output_type": "execute_result"
    }
   ],
   "source": [
    "df.columns\n"
   ]
  },
  {
   "cell_type": "code",
   "execution_count": 7,
   "id": "80088166",
   "metadata": {},
   "outputs": [
    {
     "data": {
      "text/html": [
       "<div>\n",
       "<style scoped>\n",
       "    .dataframe tbody tr th:only-of-type {\n",
       "        vertical-align: middle;\n",
       "    }\n",
       "\n",
       "    .dataframe tbody tr th {\n",
       "        vertical-align: top;\n",
       "    }\n",
       "\n",
       "    .dataframe thead th {\n",
       "        text-align: right;\n",
       "    }\n",
       "</style>\n",
       "<table border=\"1\" class=\"dataframe\">\n",
       "  <thead>\n",
       "    <tr style=\"text-align: right;\">\n",
       "      <th></th>\n",
       "      <th>Unnamed: 0</th>\n",
       "      <th>row_id</th>\n",
       "      <th>order_id</th>\n",
       "      <th>order_date</th>\n",
       "      <th>ship_date</th>\n",
       "      <th>ship_mode</th>\n",
       "      <th>customer_id</th>\n",
       "      <th>segment</th>\n",
       "      <th>city</th>\n",
       "      <th>state</th>\n",
       "      <th>...</th>\n",
       "      <th>category</th>\n",
       "      <th>sub_category</th>\n",
       "      <th>product_name</th>\n",
       "      <th>sales</th>\n",
       "      <th>quantity</th>\n",
       "      <th>discount</th>\n",
       "      <th>profit</th>\n",
       "      <th>shipping_cost</th>\n",
       "      <th>order_priority</th>\n",
       "      <th>total_sales</th>\n",
       "    </tr>\n",
       "  </thead>\n",
       "  <tbody>\n",
       "    <tr>\n",
       "      <th>0</th>\n",
       "      <td>0</td>\n",
       "      <td>32298</td>\n",
       "      <td>CA-2012-124891</td>\n",
       "      <td>31-07-2012</td>\n",
       "      <td>31-07-2012</td>\n",
       "      <td>Same Day</td>\n",
       "      <td>RH-19495</td>\n",
       "      <td>Consumer</td>\n",
       "      <td>New York City</td>\n",
       "      <td>New York</td>\n",
       "      <td>...</td>\n",
       "      <td>Technology</td>\n",
       "      <td>Accessories</td>\n",
       "      <td>Plantronics CS510 - Over-the-Head monaural Wir...</td>\n",
       "      <td>2309.650</td>\n",
       "      <td>7</td>\n",
       "      <td>0.0</td>\n",
       "      <td>762.1845</td>\n",
       "      <td>933.57</td>\n",
       "      <td>Critical</td>\n",
       "      <td>16167.550</td>\n",
       "    </tr>\n",
       "    <tr>\n",
       "      <th>1</th>\n",
       "      <td>1</td>\n",
       "      <td>26341</td>\n",
       "      <td>IN-2013-77878</td>\n",
       "      <td>5/2/2013</td>\n",
       "      <td>7/2/2013</td>\n",
       "      <td>Second Class</td>\n",
       "      <td>JR-16210</td>\n",
       "      <td>Corporate</td>\n",
       "      <td>Wollongong</td>\n",
       "      <td>New South Wales</td>\n",
       "      <td>...</td>\n",
       "      <td>Furniture</td>\n",
       "      <td>Chairs</td>\n",
       "      <td>Novimex Executive Leather Armchair, Black</td>\n",
       "      <td>3709.395</td>\n",
       "      <td>9</td>\n",
       "      <td>0.1</td>\n",
       "      <td>-288.7650</td>\n",
       "      <td>923.63</td>\n",
       "      <td>Critical</td>\n",
       "      <td>33384.555</td>\n",
       "    </tr>\n",
       "    <tr>\n",
       "      <th>2</th>\n",
       "      <td>2</td>\n",
       "      <td>25330</td>\n",
       "      <td>IN-2013-71249</td>\n",
       "      <td>17-10-2013</td>\n",
       "      <td>18-10-2013</td>\n",
       "      <td>First Class</td>\n",
       "      <td>CR-12730</td>\n",
       "      <td>Consumer</td>\n",
       "      <td>Brisbane</td>\n",
       "      <td>Queensland</td>\n",
       "      <td>...</td>\n",
       "      <td>Technology</td>\n",
       "      <td>Phones</td>\n",
       "      <td>Nokia Smart Phone, with Caller ID</td>\n",
       "      <td>5175.171</td>\n",
       "      <td>9</td>\n",
       "      <td>0.1</td>\n",
       "      <td>919.9710</td>\n",
       "      <td>915.49</td>\n",
       "      <td>Medium</td>\n",
       "      <td>46576.539</td>\n",
       "    </tr>\n",
       "    <tr>\n",
       "      <th>3</th>\n",
       "      <td>3</td>\n",
       "      <td>13524</td>\n",
       "      <td>ES-2013-1579342</td>\n",
       "      <td>28-01-2013</td>\n",
       "      <td>30-01-2013</td>\n",
       "      <td>First Class</td>\n",
       "      <td>KM-16375</td>\n",
       "      <td>Home Office</td>\n",
       "      <td>Berlin</td>\n",
       "      <td>Berlin</td>\n",
       "      <td>...</td>\n",
       "      <td>Technology</td>\n",
       "      <td>Phones</td>\n",
       "      <td>Motorola Smart Phone, Cordless</td>\n",
       "      <td>2892.510</td>\n",
       "      <td>5</td>\n",
       "      <td>0.1</td>\n",
       "      <td>-96.5400</td>\n",
       "      <td>910.16</td>\n",
       "      <td>Medium</td>\n",
       "      <td>14462.550</td>\n",
       "    </tr>\n",
       "    <tr>\n",
       "      <th>4</th>\n",
       "      <td>4</td>\n",
       "      <td>47221</td>\n",
       "      <td>SG-2013-4320</td>\n",
       "      <td>5/11/2013</td>\n",
       "      <td>6/11/2013</td>\n",
       "      <td>Same Day</td>\n",
       "      <td>RH-9495</td>\n",
       "      <td>Consumer</td>\n",
       "      <td>Dakar</td>\n",
       "      <td>Dakar</td>\n",
       "      <td>...</td>\n",
       "      <td>Technology</td>\n",
       "      <td>Copiers</td>\n",
       "      <td>Sharp Wireless Fax, High-Speed</td>\n",
       "      <td>2832.960</td>\n",
       "      <td>8</td>\n",
       "      <td>0.0</td>\n",
       "      <td>311.5200</td>\n",
       "      <td>903.04</td>\n",
       "      <td>Critical</td>\n",
       "      <td>22663.680</td>\n",
       "    </tr>\n",
       "  </tbody>\n",
       "</table>\n",
       "<p>5 rows × 24 columns</p>\n",
       "</div>"
      ],
      "text/plain": [
       "   Unnamed: 0  row_id         order_id  order_date   ship_date     ship_mode  \\\n",
       "0           0   32298   CA-2012-124891  31-07-2012  31-07-2012      Same Day   \n",
       "1           1   26341    IN-2013-77878    5/2/2013    7/2/2013  Second Class   \n",
       "2           2   25330    IN-2013-71249  17-10-2013  18-10-2013   First Class   \n",
       "3           3   13524  ES-2013-1579342  28-01-2013  30-01-2013   First Class   \n",
       "4           4   47221     SG-2013-4320   5/11/2013   6/11/2013      Same Day   \n",
       "\n",
       "  customer_id      segment           city            state  ...    category  \\\n",
       "0    RH-19495     Consumer  New York City         New York  ...  Technology   \n",
       "1    JR-16210    Corporate     Wollongong  New South Wales  ...   Furniture   \n",
       "2    CR-12730     Consumer       Brisbane       Queensland  ...  Technology   \n",
       "3    KM-16375  Home Office         Berlin           Berlin  ...  Technology   \n",
       "4     RH-9495     Consumer          Dakar            Dakar  ...  Technology   \n",
       "\n",
       "  sub_category                                       product_name     sales  \\\n",
       "0  Accessories  Plantronics CS510 - Over-the-Head monaural Wir...  2309.650   \n",
       "1       Chairs          Novimex Executive Leather Armchair, Black  3709.395   \n",
       "2       Phones                  Nokia Smart Phone, with Caller ID  5175.171   \n",
       "3       Phones                     Motorola Smart Phone, Cordless  2892.510   \n",
       "4      Copiers                     Sharp Wireless Fax, High-Speed  2832.960   \n",
       "\n",
       "  quantity discount    profit  shipping_cost  order_priority  total_sales  \n",
       "0        7      0.0  762.1845         933.57        Critical    16167.550  \n",
       "1        9      0.1 -288.7650         923.63        Critical    33384.555  \n",
       "2        9      0.1  919.9710         915.49          Medium    46576.539  \n",
       "3        5      0.1  -96.5400         910.16          Medium    14462.550  \n",
       "4        8      0.0  311.5200         903.04        Critical    22663.680  \n",
       "\n",
       "[5 rows x 24 columns]"
      ]
     },
     "execution_count": 7,
     "metadata": {},
     "output_type": "execute_result"
    }
   ],
   "source": [
    "df.head()"
   ]
  },
  {
   "cell_type": "code",
   "execution_count": 8,
   "id": "4087b29a",
   "metadata": {},
   "outputs": [
    {
     "data": {
      "text/plain": [
       "Unnamed: 0          int64\n",
       "row_id              int64\n",
       "order_id           object\n",
       "order_date         object\n",
       "ship_date          object\n",
       "ship_mode          object\n",
       "customer_id        object\n",
       "segment            object\n",
       "city               object\n",
       "state              object\n",
       "country            object\n",
       "market             object\n",
       "region             object\n",
       "product_id         object\n",
       "category           object\n",
       "sub_category       object\n",
       "product_name       object\n",
       "sales             float64\n",
       "quantity            int64\n",
       "discount          float64\n",
       "profit            float64\n",
       "shipping_cost     float64\n",
       "order_priority     object\n",
       "total_sales       float64\n",
       "dtype: object"
      ]
     },
     "execution_count": 8,
     "metadata": {},
     "output_type": "execute_result"
    }
   ],
   "source": [
    "df.dtypes"
   ]
  },
  {
   "cell_type": "code",
   "execution_count": 9,
   "id": "cc350b84",
   "metadata": {},
   "outputs": [
    {
     "data": {
      "text/plain": [
       "Unnamed: 0        0\n",
       "row_id            0\n",
       "order_id          0\n",
       "order_date        0\n",
       "ship_date         0\n",
       "ship_mode         0\n",
       "customer_id       0\n",
       "segment           0\n",
       "city              0\n",
       "state             0\n",
       "country           0\n",
       "market            0\n",
       "region            0\n",
       "product_id        0\n",
       "category          0\n",
       "sub_category      0\n",
       "product_name      0\n",
       "sales             0\n",
       "quantity          0\n",
       "discount          0\n",
       "profit            0\n",
       "shipping_cost     0\n",
       "order_priority    0\n",
       "total_sales       0\n",
       "dtype: int64"
      ]
     },
     "execution_count": 9,
     "metadata": {},
     "output_type": "execute_result"
    }
   ],
   "source": [
    "df.isnull().sum()"
   ]
  },
  {
   "cell_type": "markdown",
   "id": "c832974d",
   "metadata": {},
   "source": [
    "#### Extreme value checks"
   ]
  },
  {
   "cell_type": "code",
   "execution_count": 10,
   "id": "4b29329c",
   "metadata": {},
   "outputs": [
    {
     "name": "stderr",
     "output_type": "stream",
     "text": [
      "C:\\Users\\jnyam\\anaconda3\\lib\\site-packages\\seaborn\\distributions.py:2619: FutureWarning: `distplot` is a deprecated function and will be removed in a future version. Please adapt your code to use either `displot` (a figure-level function with similar flexibility) or `histplot` (an axes-level function for histograms).\n",
      "  warnings.warn(msg, FutureWarning)\n"
     ]
    },
    {
     "data": {
      "text/plain": [
       "<AxesSubplot:xlabel='total_sales', ylabel='Density'>"
      ]
     },
     "execution_count": 10,
     "metadata": {},
     "output_type": "execute_result"
    },
    {
     "data": {
      "image/png": "[encoded data removed]",
      "text/plain": [
       "<Figure size 432x288 with 1 Axes>"
      ]
     },
     "metadata": {
      "needs_background": "light"
     },
     "output_type": "display_data"
    }
   ],
   "source": [
    "sns.distplot(df['total_sales'], bins=25)"
   ]
  },
  {
   "cell_type": "code",
   "execution_count": 12,
   "id": "99ebd24e",
   "metadata": {},
   "outputs": [
    {
     "name": "stderr",
     "output_type": "stream",
     "text": [
      "C:\\Users\\jnyam\\anaconda3\\lib\\site-packages\\seaborn\\distributions.py:2619: FutureWarning: `distplot` is a deprecated function and will be removed in a future version. Please adapt your code to use either `displot` (a figure-level function with similar flexibility) or `histplot` (an axes-level function for histograms).\n",
      "  warnings.warn(msg, FutureWarning)\n"
     ]
    },
    {
     "data": {
      "text/plain": [
       "<AxesSubplot:xlabel='shipping_cost', ylabel='Density'>"
      ]
     },
     "execution_count": 12,
     "metadata": {},
     "output_type": "execute_result"
    },
    {
     "data": {
      "image/png": "[encoded data removed]",
      "text/plain": [
       "<Figure size 432x288 with 1 Axes>"
      ]
     },
     "metadata": {
      "needs_background": "light"
     },
     "output_type": "display_data"
    }
   ],
   "source": [
    "sns.distplot(df['shipping_cost'], bins=30)"
   ]
  },
  {
   "cell_type": "markdown",
   "id": "e6969837",
   "metadata": {},
   "source": [
    "### Data preperation for regression analysis\n",
    "\n",
    "Hypothesis:If overall sales increase, shipping expenses will increase."
   ]
  },
  {
   "cell_type": "code",
   "execution_count": 13,
   "id": "7fc4ebff",
   "metadata": {},
   "outputs": [
    {
     "data": {
      "image/png": "[encoded data removed]",
      "text/plain": [
       "<Figure size 432x288 with 1 Axes>"
      ]
     },
     "metadata": {
      "needs_background": "light"
     },
     "output_type": "display_data"
    }
   ],
   "source": [
    "# Creating a scatterplot to looking for variables' relationship to be tested\n",
    "# Create a scatterplot using matplotlib for another look at how the chosen variables plot against each other.\n",
    "\n",
    "df.plot(x = 'total_sales', y='shipping_cost',style='o')\n",
    "plt.title('total_sales  vs shipping_cost')  \n",
    "plt.xlabel('total_sales')  \n",
    "plt.ylabel('shipping_cost')  \n",
    "plt.show()\n"
   ]
  },
  {
   "cell_type": "code",
   "execution_count": 14,
   "id": "9368cb08",
   "metadata": {},
   "outputs": [],
   "source": [
    "# Reshaping the variables into NumPy arrays and putting them into separate objects\n",
    "X = df['total_sales'].values.reshape(-1,1)\n",
    "y = df['shipping_cost'].values.reshape(-1,1)"
   ]
  },
  {
   "cell_type": "code",
   "execution_count": 15,
   "id": "d4f24d54",
   "metadata": {},
   "outputs": [
    {
     "data": {
      "text/plain": [
       "array([[1.6167550e+04],\n",
       "       [3.3384555e+04],\n",
       "       [4.6576539e+04],\n",
       "       ...,\n",
       "       [6.8760000e+01],\n",
       "       [2.6880000e+01],\n",
       "       [1.8414000e+02]])"
      ]
     },
     "execution_count": 15,
     "metadata": {},
     "output_type": "execute_result"
    }
   ],
   "source": [
    "# \"total sales\" variable\n",
    "X"
   ]
  },
  {
   "cell_type": "code",
   "execution_count": 16,
   "id": "12914527",
   "metadata": {},
   "outputs": [
    {
     "data": {
      "text/plain": [
       "array([[9.3357e+02],\n",
       "       [9.2363e+02],\n",
       "       [9.1549e+02],\n",
       "       ...,\n",
       "       [1.0000e-02],\n",
       "       [0.0000e+00],\n",
       "       [0.0000e+00]])"
      ]
     },
     "execution_count": 16,
     "metadata": {},
     "output_type": "execute_result"
    }
   ],
   "source": [
    "# \"shipping cost\" variable\n",
    "y"
   ]
  },
  {
   "cell_type": "code",
   "execution_count": 17,
   "id": "bd00e5ec",
   "metadata": {},
   "outputs": [],
   "source": [
    "# Splitting the data into a training set and a test set by 30% of data.\n",
    "\n",
    "X_train, X_test, y_train, y_test = train_test_split(X, y, test_size=0.3, random_state=0)"
   ]
  },
  {
   "cell_type": "markdown",
   "id": "f426a71f",
   "metadata": {},
   "source": [
    "### Regression analysis"
   ]
  },
  {
   "cell_type": "code",
   "execution_count": 18,
   "id": "a004159a",
   "metadata": {},
   "outputs": [],
   "source": [
    "# Creating a regression object.\n",
    "\n",
    "regression = LinearRegression()  # This is the regression object, which will be fit onto the training set."
   ]
  },
  {
   "cell_type": "code",
   "execution_count": 19,
   "id": "d26af075",
   "metadata": {},
   "outputs": [
    {
     "data": {
      "text/plain": [
       "LinearRegression()"
      ]
     },
     "execution_count": 19,
     "metadata": {},
     "output_type": "execute_result"
    }
   ],
   "source": [
    "# Fit the regression object onto the training set.\n",
    "\n",
    "regression.fit(X_train, y_train) # training the model"
   ]
  },
  {
   "cell_type": "code",
   "execution_count": 20,
   "id": "20c2ea59",
   "metadata": {},
   "outputs": [],
   "source": [
    "# Predict the values of y using X.\n",
    "# Using the model on the test data set to predict some y values and see how accurate they are.\n",
    "\n",
    "y_predicted = regression.predict(X_test) "
   ]
  },
  {
   "cell_type": "code",
   "execution_count": 21,
   "id": "8f6c9008",
   "metadata": {},
   "outputs": [
    {
     "data": {
      "image/png": "[encoded data removed]",
      "text/plain": [
       "<Figure size 432x288 with 1 Axes>"
      ]
     },
     "metadata": {
      "needs_background": "light"
     },
     "output_type": "display_data"
    }
   ],
   "source": [
    "# Creating a plot that shows the regression line from the model on the test set.\n",
    "\n",
    "plot_test = plt\n",
    "plt.scatter(X_test, y_test, color='black', s = 15)\n",
    "plt.plot(X_test, y_predicted, color='red', linewidth =1)\n",
    "plt.title('total_sales vs shipping_cost (Test set)')\n",
    "plt.xlabel('total_sales')\n",
    "plt.ylabel('shipping_cost')\n",
    "plt.show()"
   ]
  },
  {
   "cell_type": "code",
   "execution_count": 22,
   "id": "72809a73",
   "metadata": {},
   "outputs": [],
   "source": [
    "# Checking the accuracy of the model - mean squared error and R2.\n",
    "# Creating objects that contain the model summary statistics.\n",
    "\n",
    "rmse = mean_squared_error(y_test, y_predicted) # This is the mean squared error\n",
    "r2 = r2_score(y_test, y_predicted) # This is the R2 score. "
   ]
  },
  {
   "cell_type": "code",
   "execution_count": 23,
   "id": "d5e7919b",
   "metadata": {},
   "outputs": [
    {
     "name": "stdout",
     "output_type": "stream",
     "text": [
      "Slope: [[0.01176452]]\n",
      "Mean squared error:  1727.0334352221205\n",
      "R2 score:  0.44269210239352186\n"
     ]
    }
   ],
   "source": [
    "# Printing the model's summary statistics. \n",
    "\n",
    "print('Slope:' ,regression.coef_)\n",
    "print('Mean squared error: ', rmse)\n",
    "print('R2 score: ', r2)"
   ]
  },
  {
   "cell_type": "markdown",
   "id": "0bd6d613",
   "metadata": {},
   "source": [
    "The slop shows the 0.0117. It indicates how shipping cost variable changes when total sales variable changes. The mean squared error shows that there is a large average squared difference between estimated and true values. The regression model might not be the most accurate one to forecast how the two variables would interact. My model's R2 rating is 0.4426. That indicates a poor fit in my model. "
   ]
  },
  {
   "cell_type": "code",
   "execution_count": 24,
   "id": "c18550d0",
   "metadata": {},
   "outputs": [
    {
     "data": {
      "text/plain": [
       "array([[ 16.79601827],\n",
       "       [ 20.39984311],\n",
       "       [386.13824121],\n",
       "       ...,\n",
       "       [ 12.39801788],\n",
       "       [ 13.62383361],\n",
       "       [ 15.15063277]])"
      ]
     },
     "execution_count": 24,
     "metadata": {},
     "output_type": "execute_result"
    }
   ],
   "source": [
    "# Making a dataframe of y values and their predicted values to further see the performance of the model \n",
    "\n",
    "y_predicted"
   ]
  },
  {
   "cell_type": "code",
   "execution_count": 25,
   "id": "3e604a1e",
   "metadata": {},
   "outputs": [
    {
     "data": {
      "text/html": [
       "<div>\n",
       "<style scoped>\n",
       "    .dataframe tbody tr th:only-of-type {\n",
       "        vertical-align: middle;\n",
       "    }\n",
       "\n",
       "    .dataframe tbody tr th {\n",
       "        vertical-align: top;\n",
       "    }\n",
       "\n",
       "    .dataframe thead th {\n",
       "        text-align: right;\n",
       "    }\n",
       "</style>\n",
       "<table border=\"1\" class=\"dataframe\">\n",
       "  <thead>\n",
       "    <tr style=\"text-align: right;\">\n",
       "      <th></th>\n",
       "      <th>Actual</th>\n",
       "      <th>Predicted</th>\n",
       "    </tr>\n",
       "  </thead>\n",
       "  <tbody>\n",
       "    <tr>\n",
       "      <th>0</th>\n",
       "      <td>9.26</td>\n",
       "      <td>16.796018</td>\n",
       "    </tr>\n",
       "    <tr>\n",
       "      <th>1</th>\n",
       "      <td>9.28</td>\n",
       "      <td>20.399843</td>\n",
       "    </tr>\n",
       "    <tr>\n",
       "      <th>2</th>\n",
       "      <td>581.12</td>\n",
       "      <td>386.138241</td>\n",
       "    </tr>\n",
       "    <tr>\n",
       "      <th>3</th>\n",
       "      <td>5.96</td>\n",
       "      <td>16.705173</td>\n",
       "    </tr>\n",
       "    <tr>\n",
       "      <th>4</th>\n",
       "      <td>30.67</td>\n",
       "      <td>82.757977</td>\n",
       "    </tr>\n",
       "    <tr>\n",
       "      <th>5</th>\n",
       "      <td>1.13</td>\n",
       "      <td>12.793729</td>\n",
       "    </tr>\n",
       "    <tr>\n",
       "      <th>6</th>\n",
       "      <td>5.17</td>\n",
       "      <td>16.162852</td>\n",
       "    </tr>\n",
       "    <tr>\n",
       "      <th>7</th>\n",
       "      <td>8.68</td>\n",
       "      <td>15.630272</td>\n",
       "    </tr>\n",
       "    <tr>\n",
       "      <th>8</th>\n",
       "      <td>1.97</td>\n",
       "      <td>13.582893</td>\n",
       "    </tr>\n",
       "    <tr>\n",
       "      <th>9</th>\n",
       "      <td>0.90</td>\n",
       "      <td>12.454252</td>\n",
       "    </tr>\n",
       "    <tr>\n",
       "      <th>10</th>\n",
       "      <td>16.85</td>\n",
       "      <td>26.850446</td>\n",
       "    </tr>\n",
       "    <tr>\n",
       "      <th>11</th>\n",
       "      <td>11.34</td>\n",
       "      <td>14.921225</td>\n",
       "    </tr>\n",
       "    <tr>\n",
       "      <th>12</th>\n",
       "      <td>4.73</td>\n",
       "      <td>13.530659</td>\n",
       "    </tr>\n",
       "    <tr>\n",
       "      <th>13</th>\n",
       "      <td>18.23</td>\n",
       "      <td>20.421372</td>\n",
       "    </tr>\n",
       "    <tr>\n",
       "      <th>14</th>\n",
       "      <td>87.47</td>\n",
       "      <td>54.030453</td>\n",
       "    </tr>\n",
       "    <tr>\n",
       "      <th>15</th>\n",
       "      <td>16.47</td>\n",
       "      <td>33.211756</td>\n",
       "    </tr>\n",
       "    <tr>\n",
       "      <th>16</th>\n",
       "      <td>25.29</td>\n",
       "      <td>19.042382</td>\n",
       "    </tr>\n",
       "    <tr>\n",
       "      <th>17</th>\n",
       "      <td>35.76</td>\n",
       "      <td>28.365387</td>\n",
       "    </tr>\n",
       "    <tr>\n",
       "      <th>18</th>\n",
       "      <td>3.41</td>\n",
       "      <td>12.861140</td>\n",
       "    </tr>\n",
       "    <tr>\n",
       "      <th>19</th>\n",
       "      <td>26.08</td>\n",
       "      <td>25.813311</td>\n",
       "    </tr>\n",
       "    <tr>\n",
       "      <th>20</th>\n",
       "      <td>6.98</td>\n",
       "      <td>13.070525</td>\n",
       "    </tr>\n",
       "    <tr>\n",
       "      <th>21</th>\n",
       "      <td>489.60</td>\n",
       "      <td>87.764109</td>\n",
       "    </tr>\n",
       "    <tr>\n",
       "      <th>22</th>\n",
       "      <td>9.25</td>\n",
       "      <td>13.617128</td>\n",
       "    </tr>\n",
       "    <tr>\n",
       "      <th>23</th>\n",
       "      <td>0.39</td>\n",
       "      <td>12.947609</td>\n",
       "    </tr>\n",
       "    <tr>\n",
       "      <th>24</th>\n",
       "      <td>4.20</td>\n",
       "      <td>13.314097</td>\n",
       "    </tr>\n",
       "    <tr>\n",
       "      <th>25</th>\n",
       "      <td>23.65</td>\n",
       "      <td>18.741399</td>\n",
       "    </tr>\n",
       "    <tr>\n",
       "      <th>26</th>\n",
       "      <td>1.79</td>\n",
       "      <td>13.805948</td>\n",
       "    </tr>\n",
       "    <tr>\n",
       "      <th>27</th>\n",
       "      <td>2.21</td>\n",
       "      <td>12.888316</td>\n",
       "    </tr>\n",
       "    <tr>\n",
       "      <th>28</th>\n",
       "      <td>3.80</td>\n",
       "      <td>15.068046</td>\n",
       "    </tr>\n",
       "    <tr>\n",
       "      <th>29</th>\n",
       "      <td>0.82</td>\n",
       "      <td>12.572650</td>\n",
       "    </tr>\n",
       "  </tbody>\n",
       "</table>\n",
       "</div>"
      ],
      "text/plain": [
       "    Actual   Predicted\n",
       "0     9.26   16.796018\n",
       "1     9.28   20.399843\n",
       "2   581.12  386.138241\n",
       "3     5.96   16.705173\n",
       "4    30.67   82.757977\n",
       "5     1.13   12.793729\n",
       "6     5.17   16.162852\n",
       "7     8.68   15.630272\n",
       "8     1.97   13.582893\n",
       "9     0.90   12.454252\n",
       "10   16.85   26.850446\n",
       "11   11.34   14.921225\n",
       "12    4.73   13.530659\n",
       "13   18.23   20.421372\n",
       "14   87.47   54.030453\n",
       "15   16.47   33.211756\n",
       "16   25.29   19.042382\n",
       "17   35.76   28.365387\n",
       "18    3.41   12.861140\n",
       "19   26.08   25.813311\n",
       "20    6.98   13.070525\n",
       "21  489.60   87.764109\n",
       "22    9.25   13.617128\n",
       "23    0.39   12.947609\n",
       "24    4.20   13.314097\n",
       "25   23.65   18.741399\n",
       "26    1.79   13.805948\n",
       "27    2.21   12.888316\n",
       "28    3.80   15.068046\n",
       "29    0.82   12.572650"
      ]
     },
     "execution_count": 25,
     "metadata": {},
     "output_type": "execute_result"
    }
   ],
   "source": [
    "# Creating a dataframe comparing the actual and predicted values of y.\n",
    "\n",
    "data = pd.DataFrame({'Actual': y_test.flatten(), 'Predicted': y_predicted.flatten()})\n",
    "data.head(30)"
   ]
  },
  {
   "cell_type": "markdown",
   "id": "341a80ca",
   "metadata": {},
   "source": [
    "### Comparing how the regression fits the training set"
   ]
  },
  {
   "cell_type": "code",
   "execution_count": 26,
   "id": "ecdf5534",
   "metadata": {},
   "outputs": [],
   "source": [
    "# Comparing how the regression fits the training set\n",
    "\n",
    "y_predicted_train = regression.predict(X_train) # This is predicting X_train!"
   ]
  },
  {
   "cell_type": "code",
   "execution_count": 27,
   "id": "bb06517c",
   "metadata": {},
   "outputs": [],
   "source": [
    "# Checking the accuracy of the model.\n",
    "\n",
    "rmse = mean_squared_error(y_train, y_predicted_train)\n",
    "r2 = r2_score(y_train, y_predicted_train)"
   ]
  },
  {
   "cell_type": "code",
   "execution_count": 28,
   "id": "071789c2",
   "metadata": {},
   "outputs": [
    {
     "name": "stdout",
     "output_type": "stream",
     "text": [
      "Slope: [[0.01176452]]\n",
      "Mean squared error:  1713.8059756449202\n",
      "R2 score:  0.4901927523271754\n"
     ]
    }
   ],
   "source": [
    "# Printing the model's statistics results. \n",
    "\n",
    "print('Slope:' ,regression.coef_)\n",
    "print('Mean squared error: ', rmse)\n",
    "print('R2 score: ', r2)\n"
   ]
  },
  {
   "cell_type": "code",
   "execution_count": 54,
   "id": "d6c35af4",
   "metadata": {},
   "outputs": [
    {
     "data": {
      "image/png": "[encoded data removed]",
      "text/plain": [
       "<Figure size 432x288 with 1 Axes>"
      ]
     },
     "metadata": {
      "needs_background": "light"
     },
     "output_type": "display_data"
    }
   ],
   "source": [
    "# Visualizing the training set results.\n",
    "\n",
    "plot_test = plt\n",
    "plot_test.scatter(X_train, y_train, color='black', s = 15)\n",
    "plot_test.plot(X_train, y_predicted_train, color='navy', linewidth =3)\n",
    "plot_test.title('total_sales vs shipping_cost (Test set)')\n",
    "plot_test.xlabel('total_sales')\n",
    "plot_test.ylabel('shipping_cost')\n",
    "plot_test.show()\n"
   ]
  },
  {
   "cell_type": "markdown",
   "id": "6300f9e5",
   "metadata": {},
   "source": [
    "There are several observations where the actual and predicted values differ significantly, but there are also some with similar values. Despite the fact that the scatterplot clearly demonstrates a strong correlation between the variables, the model's statistics indicate that the linear regression model does not appear to provide a good fit."
   ]
  },
  {
   "cell_type": "code",
   "execution_count": null,
   "id": "0e4947d7",
   "metadata": {},
   "outputs": [],
   "source": []
  }
 ],
 "metadata": {
  "kernelspec": {
   "display_name": "Python 3 (ipykernel)",
   "language": "python",
   "name": "python3"
  },
  "language_info": {
   "codemirror_mode": {
    "name": "ipython",
    "version": 3
   },
   "file_extension": ".py",
   "mimetype": "text/x-python",
   "name": "python",
   "nbconvert_exporter": "python",
   "pygments_lexer": "ipython3",
   "version": "3.9.7"
  }
 },
 "nbformat": 4,
 "nbformat_minor": 5
}
